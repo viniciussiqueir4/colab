{
  "cells": [
    {
      "cell_type": "code",
      "execution_count": null,
      "metadata": {
        "colab": {
          "base_uri": "https://localhost:8080/"
        },
        "id": "mxK5AU6i-VaL",
        "outputId": "7042b0e4-64ee-49b9-fceb-93cc688a4c6d"
      },
      "outputs": [],
      "source": [
        "%pip install fastapi nest-asyncio pyngrok uvicorn jinja2 numpy scikit-learn voila requests\n"
      ]
    },
    {
      "cell_type": "code",
      "execution_count": null,
      "metadata": {
        "id": "6fjKxwTz-blu"
      },
      "outputs": [],
      "source": [
        "import json\n",
        "import requests\n",
        "from starlette.responses import FileResponse\n",
        "from pydantic import BaseModel\n",
        "from pyngrok import ngrok\n",
        "import uvicorn\n",
        "import nest_asyncio\n",
        "from fastapi.templating import Jinja2Templates\n",
        "from fastapi.staticfiles import StaticFiles\n",
        "from fastapi import FastAPI, Request\n",
        "import pickle\n",
        "import numpy as np\n",
        "import warnings\n",
        "warnings.filterwarnings('ignore')\n"
      ]
    },
    {
      "cell_type": "code",
      "execution_count": null,
      "metadata": {
        "id": "jhmmMpaJFGx2"
      },
      "outputs": [],
      "source": [
        "class IrisSpecies(BaseModel):\n",
        "    sepal_length: float\n",
        "    sepal_width: float\n",
        "    petal_length: float\n",
        "    petal_width: float\n"
      ]
    },
    {
      "cell_type": "code",
      "execution_count": null,
      "metadata": {
        "id": "oI4RriXJKacK"
      },
      "outputs": [],
      "source": [
        "app = FastAPI()\n"
      ]
    },
    {
      "cell_type": "code",
      "execution_count": null,
      "metadata": {
        "id": "C_A4LnnLMq8I"
      },
      "outputs": [],
      "source": [
        "@app.get('/')\n",
        "async def sample():\n",
        "    loaded_X = pickle.load(open('X_train.pkl', 'rb'))\n",
        "    x0 = np.random.normal(loaded_X[:, 0].mean(), loaded_X[:, 0].std(), 1)\n",
        "    x1 = np.random.normal(loaded_X[:, 1].mean(), loaded_X[:, 1].std(), 1)\n",
        "    x2 = np.random.normal(loaded_X[:, 2].mean(), loaded_X[:, 2].std(), 1)\n",
        "    x3 = np.random.normal(loaded_X[:, 3].mean(), loaded_X[:, 3].std(), 1)\n",
        "\n",
        "    return {\n",
        "        'sepal_length': x0[0],\n",
        "        'sepal_width': x1[0],\n",
        "        'petal_length': x2[0],\n",
        "        'petal_width': x3[0]\n",
        "    }\n"
      ]
    },
    {
      "cell_type": "code",
      "execution_count": null,
      "metadata": {
        "id": "3EufRR1xhL7C"
      },
      "outputs": [],
      "source": [
        "@app.post('/')\n",
        "async def predict(iris: IrisSpecies):\n",
        "    data = iris.dict()\n",
        "    loaded_model = pickle.load(open('model.pkl', 'rb'))\n",
        "    data_in = [[data['sepal_length'], data['sepal_width'],\n",
        "                data['petal_length'], data['petal_width']]]\n",
        "    prediction = loaded_model.predict(data_in)\n",
        "    probability = loaded_model.predict_proba(data_in).max()\n",
        "    iris_type = ['Iris Setosa', 'Iris Virginica', 'Iris Versicolor']\n",
        "\n",
        "    return {\n",
        "        'prediction': int(prediction[0]),\n",
        "        'iris_specie': iris_type[int(prediction[0])-1],\n",
        "        'probability': probability\n",
        "    }\n"
      ]
    },
    {
      "cell_type": "code",
      "execution_count": null,
      "metadata": {},
      "outputs": [],
      "source": [
        "# ngrok_tunnel = ngrok.connect(8000)\n",
        "# print('Public URL:', ngrok_tunnel.public_url)\n",
        "# nest_asyncio.apply()\n",
        "# uvicorn.run(app, port=8000)\n"
      ]
    },
    {
      "cell_type": "code",
      "execution_count": null,
      "metadata": {},
      "outputs": [],
      "source": [
        "# ngrok.kill()"
      ]
    },
    {
      "cell_type": "code",
      "execution_count": null,
      "metadata": {},
      "outputs": [],
      "source": [
        "# taskkill /f /im ngrok.exe"
      ]
    },
    {
      "cell_type": "code",
      "execution_count": null,
      "metadata": {},
      "outputs": [],
      "source": [
        "# %pip freeze > requirements.txt\n"
      ]
    },
    {
      "cell_type": "code",
      "execution_count": null,
      "metadata": {},
      "outputs": [],
      "source": [
        "# version = !python - -version\n",
        "# version = version[0].lower().replace(\" \", \"-\")\n",
        "# !echo $version > runtime.txt\n"
      ]
    },
    {
      "cell_type": "code",
      "execution_count": null,
      "metadata": {},
      "outputs": [],
      "source": [
        "# %echo web: voila - -port =$PORT - -no-browser api-colab.ipynb > Procfile\n"
      ]
    }
  ],
  "metadata": {
    "colab": {
      "collapsed_sections": [],
      "name": "Cópia de API Restiful.ipynb",
      "provenance": []
    },
    "kernelspec": {
      "display_name": "Python 3",
      "name": "python3"
    },
    "language_info": {
      "codemirror_mode": {
        "name": "ipython",
        "version": 3
      },
      "file_extension": ".py",
      "mimetype": "text/x-python",
      "name": "python",
      "nbconvert_exporter": "python",
      "pygments_lexer": "ipython3",
      "version": "3.10.1"
    }
  },
  "nbformat": 4,
  "nbformat_minor": 0
}
