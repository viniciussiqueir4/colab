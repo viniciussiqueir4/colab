{
  "cells": [
    {
      "cell_type": "code",
      "execution_count": null,
      "metadata": {},
      "outputs": [],
      "source": [
        "# %pip install requests\n",
        "# import requests\n",
        "# import json"
      ]
    },
    {
      "cell_type": "markdown",
      "metadata": {
        "id": "nylk-BiYEFAI"
      },
      "source": [
        "# GET"
      ]
    },
    {
      "cell_type": "code",
      "execution_count": null,
      "metadata": {
        "colab": {
          "base_uri": "https://localhost:8080/"
        },
        "id": "SunGiClwEG3w",
        "outputId": "38b41afa-bef5-4b6f-e164-efe2396dd694"
      },
      "outputs": [],
      "source": [
        "# response = requests.get('http://127.0.0.1:8000')\n",
        "# sample=response.json()\n",
        "# sample"
      ]
    },
    {
      "cell_type": "markdown",
      "metadata": {
        "id": "6sgiMQ3l7sgf"
      },
      "source": [
        "# POST"
      ]
    },
    {
      "cell_type": "code",
      "execution_count": null,
      "metadata": {
        "colab": {
          "base_uri": "https://localhost:8080/"
        },
        "id": "v4hUnggtO2jA",
        "outputId": "51081382-8c1c-462c-9ac1-9087272d18f3"
      },
      "outputs": [],
      "source": [
        "# response = requests.post('http://127.0.0.1:8000', json=sample)\n",
        "# predict=response.json()\n",
        "# predict"
      ]
    }
  ],
  "metadata": {
    "colab": {
      "collapsed_sections": [],
      "name": "Requests.ipynb",
      "provenance": []
    },
    "kernelspec": {
      "display_name": "Python 3",
      "name": "python3"
    },
    "language_info": {
      "codemirror_mode": {
        "name": "ipython",
        "version": 3
      },
      "file_extension": ".py",
      "mimetype": "text/x-python",
      "name": "python",
      "nbconvert_exporter": "python",
      "pygments_lexer": "ipython3",
      "version": "3.10.1"
    }
  },
  "nbformat": 4,
  "nbformat_minor": 0
}
